{
 "cells": [
  {
   "cell_type": "code",
   "execution_count": null,
   "metadata": {
    "collapsed": true
   },
   "outputs": [],
   "source": [
    "import cv2"
   ]
  },
  {
   "cell_type": "code",
   "execution_count": null,
   "metadata": {
    "collapsed": true
   },
   "outputs": [],
   "source": [
    "#object detection is using haarcascade\n",
    "\n",
    "#Training Images\n",
    "#Positive images - object\n",
    "#Negative Images - object x\n",
    "#for eg suppose i need to detect apple thn positive images is apple and negative images are any random images\n",
    "#xml files :description immages[pos neg]\n",
    "\n"
   ]
  },
  {
   "cell_type": "code",
   "execution_count": null,
   "metadata": {
    "collapsed": true
   },
   "outputs": [],
   "source": [
    "import numpy as np"
   ]
  },
  {
   "cell_type": "code",
   "execution_count": null,
   "metadata": {
    "collapsed": true
   },
   "outputs": [],
   "source": [
    "eye_cascade = cv2.CascadeClassifier(\"D:\\\\hackveda\\\\haarcascade_eye.xml\")"
   ]
  },
  {
   "cell_type": "code",
   "execution_count": null,
   "metadata": {
    "collapsed": true
   },
   "outputs": [],
   "source": [
    "face_cascade = cv2.CascadeClassifier(\"D:\\\\hackveda\\\\haarcascade_frontalface_default.xml\")"
   ]
  },
  {
   "cell_type": "code",
   "execution_count": null,
   "metadata": {},
   "outputs": [],
   "source": []
  },
  {
   "cell_type": "code",
   "execution_count": null,
   "metadata": {},
   "outputs": [],
   "source": [
    "\n",
    "\n",
    "#video capture object\n",
    "cap = cv2.VideoCapture(0)\n",
    "\n",
    "while 1:\n",
    "    ret,img = cap.read()#capture img frame by frame,ret is camera stops\n",
    "    gray = cv2.cvtColor(img,cv2.COLOR_BGR2GRAY)#covert into gray scale\n",
    "    faces = face_cascade.detectMultiScale(gray, 1.3,5)#detection passing gray and1.3 isfor scaling,5min neighbours rectangle\n",
    "    \n",
    "    for(x,y,w,h) in faces:\n",
    "        cv2.rectangle(img,(x,y),(x+w,y+h),(255,0,0),2)#create rectangle in video with rgb color, line width is 2\n",
    "        roi_gray = gray[y:y+h, x:x+w] #roi is region of interest\n",
    "        roi_color = img[y:y+h , x:x+w]\n",
    "        \n",
    "        eyes = eye_cascade.detectMultiScale(roi_gray)\n",
    "        for (ex , ey , ew , eh) in eyes:\n",
    "            cv2.rectangle(roi_color,(ex,ey),(ex+ew , ey+eh),(0,255,0),2)\n",
    "        \n",
    "        cv2.imshow('img',img)\n",
    "        k = cv2.waitKey(1) & 0xff  #to tell escape is pressed\n",
    "        if k == '27':\n",
    "            break\n",
    "cap.release()\n",
    "cv2.destroyAllWindows()\n",
    "        "
   ]
  },
  {
   "cell_type": "code",
   "execution_count": null,
   "metadata": {
    "collapsed": true
   },
   "outputs": [],
   "source": []
  },
  {
   "cell_type": "code",
   "execution_count": null,
   "metadata": {
    "collapsed": true
   },
   "outputs": [],
   "source": []
  }
 ],
 "metadata": {
  "kernelspec": {
   "display_name": "Python 3",
   "language": "python",
   "name": "python3"
  },
  "language_info": {
   "codemirror_mode": {
    "name": "ipython",
    "version": 3
   },
   "file_extension": ".py",
   "mimetype": "text/x-python",
   "name": "python",
   "nbconvert_exporter": "python",
   "pygments_lexer": "ipython3",
   "version": "3.6.1"
  }
 },
 "nbformat": 4,
 "nbformat_minor": 2
}
