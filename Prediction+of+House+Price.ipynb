{
 "cells": [
  {
   "cell_type": "code",
   "execution_count": 1,
   "metadata": {
    "collapsed": true
   },
   "outputs": [],
   "source": [
    "import pandas as pd\n",
    "import numpy as np\n",
    "import matplotlib.pyplot as plt\n",
    "%matplotlib inline"
   ]
  },
  {
   "cell_type": "code",
   "execution_count": 2,
   "metadata": {
    "collapsed": true
   },
   "outputs": [],
   "source": [
    "df = pd.read_csv(\"D:\\\\hackveda\\\\Housing_Modified.csv\")"
   ]
  },
  {
   "cell_type": "code",
   "execution_count": 3,
   "metadata": {},
   "outputs": [
    {
     "data": {
      "text/html": [
       "<div>\n",
       "<style>\n",
       "    .dataframe thead tr:only-child th {\n",
       "        text-align: right;\n",
       "    }\n",
       "\n",
       "    .dataframe thead th {\n",
       "        text-align: left;\n",
       "    }\n",
       "\n",
       "    .dataframe tbody tr th {\n",
       "        vertical-align: top;\n",
       "    }\n",
       "</style>\n",
       "<table border=\"1\" class=\"dataframe\">\n",
       "  <thead>\n",
       "    <tr style=\"text-align: right;\">\n",
       "      <th></th>\n",
       "      <th>price</th>\n",
       "      <th>lotsize</th>\n",
       "      <th>bedrooms</th>\n",
       "      <th>bathrms</th>\n",
       "      <th>stories</th>\n",
       "      <th>driveway</th>\n",
       "      <th>recroom</th>\n",
       "      <th>fullbase</th>\n",
       "      <th>gashw</th>\n",
       "      <th>airco</th>\n",
       "      <th>garagepl</th>\n",
       "      <th>prefarea</th>\n",
       "    </tr>\n",
       "  </thead>\n",
       "  <tbody>\n",
       "    <tr>\n",
       "      <th>0</th>\n",
       "      <td>42000.0</td>\n",
       "      <td>5850</td>\n",
       "      <td>3</td>\n",
       "      <td>1</td>\n",
       "      <td>two</td>\n",
       "      <td>yes</td>\n",
       "      <td>no</td>\n",
       "      <td>yes</td>\n",
       "      <td>no</td>\n",
       "      <td>no</td>\n",
       "      <td>1</td>\n",
       "      <td>no</td>\n",
       "    </tr>\n",
       "    <tr>\n",
       "      <th>1</th>\n",
       "      <td>38500.0</td>\n",
       "      <td>4000</td>\n",
       "      <td>2</td>\n",
       "      <td>1</td>\n",
       "      <td>one</td>\n",
       "      <td>yes</td>\n",
       "      <td>no</td>\n",
       "      <td>no</td>\n",
       "      <td>no</td>\n",
       "      <td>no</td>\n",
       "      <td>0</td>\n",
       "      <td>no</td>\n",
       "    </tr>\n",
       "    <tr>\n",
       "      <th>2</th>\n",
       "      <td>49500.0</td>\n",
       "      <td>3060</td>\n",
       "      <td>3</td>\n",
       "      <td>1</td>\n",
       "      <td>one</td>\n",
       "      <td>yes</td>\n",
       "      <td>no</td>\n",
       "      <td>no</td>\n",
       "      <td>no</td>\n",
       "      <td>no</td>\n",
       "      <td>0</td>\n",
       "      <td>no</td>\n",
       "    </tr>\n",
       "  </tbody>\n",
       "</table>\n",
       "</div>"
      ],
      "text/plain": [
       "     price  lotsize  bedrooms  bathrms stories driveway recroom fullbase  \\\n",
       "0  42000.0     5850         3        1     two      yes      no      yes   \n",
       "1  38500.0     4000         2        1     one      yes      no       no   \n",
       "2  49500.0     3060         3        1     one      yes      no       no   \n",
       "\n",
       "  gashw airco  garagepl prefarea  \n",
       "0    no    no         1       no  \n",
       "1    no    no         0       no  \n",
       "2    no    no         0       no  "
      ]
     },
     "execution_count": 3,
     "metadata": {},
     "output_type": "execute_result"
    }
   ],
   "source": [
    "df.head(3)"
   ]
  },
  {
   "cell_type": "code",
   "execution_count": 4,
   "metadata": {},
   "outputs": [
    {
     "data": {
      "text/html": [
       "<div>\n",
       "<style>\n",
       "    .dataframe thead tr:only-child th {\n",
       "        text-align: right;\n",
       "    }\n",
       "\n",
       "    .dataframe thead th {\n",
       "        text-align: left;\n",
       "    }\n",
       "\n",
       "    .dataframe tbody tr th {\n",
       "        vertical-align: top;\n",
       "    }\n",
       "</style>\n",
       "<table border=\"1\" class=\"dataframe\">\n",
       "  <thead>\n",
       "    <tr style=\"text-align: right;\">\n",
       "      <th></th>\n",
       "      <th>price</th>\n",
       "      <th>lotsize</th>\n",
       "      <th>bedrooms</th>\n",
       "      <th>bathrms</th>\n",
       "      <th>stories</th>\n",
       "      <th>driveway</th>\n",
       "      <th>recroom</th>\n",
       "      <th>fullbase</th>\n",
       "      <th>gashw</th>\n",
       "      <th>airco</th>\n",
       "      <th>garagepl</th>\n",
       "      <th>prefarea</th>\n",
       "    </tr>\n",
       "  </thead>\n",
       "  <tbody>\n",
       "    <tr>\n",
       "      <th>0</th>\n",
       "      <td>42000.0</td>\n",
       "      <td>5850</td>\n",
       "      <td>3</td>\n",
       "      <td>1</td>\n",
       "      <td>two</td>\n",
       "      <td>1</td>\n",
       "      <td>0</td>\n",
       "      <td>1</td>\n",
       "      <td>0</td>\n",
       "      <td>0</td>\n",
       "      <td>1</td>\n",
       "      <td>0</td>\n",
       "    </tr>\n",
       "    <tr>\n",
       "      <th>1</th>\n",
       "      <td>38500.0</td>\n",
       "      <td>4000</td>\n",
       "      <td>2</td>\n",
       "      <td>1</td>\n",
       "      <td>one</td>\n",
       "      <td>1</td>\n",
       "      <td>0</td>\n",
       "      <td>0</td>\n",
       "      <td>0</td>\n",
       "      <td>0</td>\n",
       "      <td>0</td>\n",
       "      <td>0</td>\n",
       "    </tr>\n",
       "    <tr>\n",
       "      <th>2</th>\n",
       "      <td>49500.0</td>\n",
       "      <td>3060</td>\n",
       "      <td>3</td>\n",
       "      <td>1</td>\n",
       "      <td>one</td>\n",
       "      <td>1</td>\n",
       "      <td>0</td>\n",
       "      <td>0</td>\n",
       "      <td>0</td>\n",
       "      <td>0</td>\n",
       "      <td>0</td>\n",
       "      <td>0</td>\n",
       "    </tr>\n",
       "  </tbody>\n",
       "</table>\n",
       "</div>"
      ],
      "text/plain": [
       "     price  lotsize  bedrooms  bathrms stories  driveway  recroom  fullbase  \\\n",
       "0  42000.0     5850         3        1     two         1        0         1   \n",
       "1  38500.0     4000         2        1     one         1        0         0   \n",
       "2  49500.0     3060         3        1     one         1        0         0   \n",
       "\n",
       "   gashw  airco  garagepl  prefarea  \n",
       "0      0      0         1         0  \n",
       "1      0      0         0         0  \n",
       "2      0      0         0         0  "
      ]
     },
     "execution_count": 4,
     "metadata": {},
     "output_type": "execute_result"
    }
   ],
   "source": [
    "#Cleaning, Standardization, Normalisation\n",
    "from sklearn import preprocessing\n",
    "lb = preprocessing.LabelBinarizer()\n",
    "\n",
    "df. driveway = lb.fit_transform(df.driveway)\n",
    "df. recroom = lb.fit_transform(df.recroom)\n",
    "df. fullbase = lb.fit_transform(df.fullbase)\n",
    "df. gashw = lb.fit_transform(df.gashw)\n",
    "df. airco = lb.fit_transform(df.airco)\n",
    "df. prefarea = lb.fit_transform(df.prefarea)\n",
    "df.head(3)"
   ]
  },
  {
   "cell_type": "code",
   "execution_count": 5,
   "metadata": {},
   "outputs": [
    {
     "data": {
      "text/html": [
       "<div>\n",
       "<style>\n",
       "    .dataframe thead tr:only-child th {\n",
       "        text-align: right;\n",
       "    }\n",
       "\n",
       "    .dataframe thead th {\n",
       "        text-align: left;\n",
       "    }\n",
       "\n",
       "    .dataframe tbody tr th {\n",
       "        vertical-align: top;\n",
       "    }\n",
       "</style>\n",
       "<table border=\"1\" class=\"dataframe\">\n",
       "  <thead>\n",
       "    <tr style=\"text-align: right;\">\n",
       "      <th></th>\n",
       "      <th>stories_four</th>\n",
       "      <th>stories_one</th>\n",
       "      <th>stories_three</th>\n",
       "      <th>stories_two</th>\n",
       "    </tr>\n",
       "  </thead>\n",
       "  <tbody>\n",
       "    <tr>\n",
       "      <th>0</th>\n",
       "      <td>0</td>\n",
       "      <td>0</td>\n",
       "      <td>0</td>\n",
       "      <td>1</td>\n",
       "    </tr>\n",
       "    <tr>\n",
       "      <th>1</th>\n",
       "      <td>0</td>\n",
       "      <td>1</td>\n",
       "      <td>0</td>\n",
       "      <td>0</td>\n",
       "    </tr>\n",
       "    <tr>\n",
       "      <th>2</th>\n",
       "      <td>0</td>\n",
       "      <td>1</td>\n",
       "      <td>0</td>\n",
       "      <td>0</td>\n",
       "    </tr>\n",
       "    <tr>\n",
       "      <th>3</th>\n",
       "      <td>0</td>\n",
       "      <td>0</td>\n",
       "      <td>0</td>\n",
       "      <td>1</td>\n",
       "    </tr>\n",
       "    <tr>\n",
       "      <th>4</th>\n",
       "      <td>0</td>\n",
       "      <td>1</td>\n",
       "      <td>0</td>\n",
       "      <td>0</td>\n",
       "    </tr>\n",
       "  </tbody>\n",
       "</table>\n",
       "</div>"
      ],
      "text/plain": [
       "   stories_four  stories_one  stories_three  stories_two\n",
       "0             0            0              0            1\n",
       "1             0            1              0            0\n",
       "2             0            1              0            0\n",
       "3             0            0              0            1\n",
       "4             0            1              0            0"
      ]
     },
     "execution_count": 5,
     "metadata": {},
     "output_type": "execute_result"
    }
   ],
   "source": [
    "#one hot encoding or Dummy variables\n",
    "df_stories = pd.get_dummies(df['stories'],prefix = 'stories')\n",
    "df_stories.head()"
   ]
  },
  {
   "cell_type": "code",
   "execution_count": 6,
   "metadata": {},
   "outputs": [
    {
     "data": {
      "text/html": [
       "<div>\n",
       "<style>\n",
       "    .dataframe thead tr:only-child th {\n",
       "        text-align: right;\n",
       "    }\n",
       "\n",
       "    .dataframe thead th {\n",
       "        text-align: left;\n",
       "    }\n",
       "\n",
       "    .dataframe tbody tr th {\n",
       "        vertical-align: top;\n",
       "    }\n",
       "</style>\n",
       "<table border=\"1\" class=\"dataframe\">\n",
       "  <thead>\n",
       "    <tr style=\"text-align: right;\">\n",
       "      <th></th>\n",
       "      <th>price</th>\n",
       "      <th>lotsize</th>\n",
       "      <th>bedrooms</th>\n",
       "      <th>bathrms</th>\n",
       "      <th>stories</th>\n",
       "      <th>driveway</th>\n",
       "      <th>recroom</th>\n",
       "      <th>fullbase</th>\n",
       "      <th>gashw</th>\n",
       "      <th>airco</th>\n",
       "      <th>garagepl</th>\n",
       "      <th>prefarea</th>\n",
       "      <th>stories_four</th>\n",
       "      <th>stories_one</th>\n",
       "      <th>stories_three</th>\n",
       "      <th>stories_two</th>\n",
       "    </tr>\n",
       "  </thead>\n",
       "  <tbody>\n",
       "    <tr>\n",
       "      <th>0</th>\n",
       "      <td>42000.0</td>\n",
       "      <td>5850</td>\n",
       "      <td>3</td>\n",
       "      <td>1</td>\n",
       "      <td>two</td>\n",
       "      <td>1</td>\n",
       "      <td>0</td>\n",
       "      <td>1</td>\n",
       "      <td>0</td>\n",
       "      <td>0</td>\n",
       "      <td>1</td>\n",
       "      <td>0</td>\n",
       "      <td>0</td>\n",
       "      <td>0</td>\n",
       "      <td>0</td>\n",
       "      <td>1</td>\n",
       "    </tr>\n",
       "    <tr>\n",
       "      <th>1</th>\n",
       "      <td>38500.0</td>\n",
       "      <td>4000</td>\n",
       "      <td>2</td>\n",
       "      <td>1</td>\n",
       "      <td>one</td>\n",
       "      <td>1</td>\n",
       "      <td>0</td>\n",
       "      <td>0</td>\n",
       "      <td>0</td>\n",
       "      <td>0</td>\n",
       "      <td>0</td>\n",
       "      <td>0</td>\n",
       "      <td>0</td>\n",
       "      <td>1</td>\n",
       "      <td>0</td>\n",
       "      <td>0</td>\n",
       "    </tr>\n",
       "    <tr>\n",
       "      <th>2</th>\n",
       "      <td>49500.0</td>\n",
       "      <td>3060</td>\n",
       "      <td>3</td>\n",
       "      <td>1</td>\n",
       "      <td>one</td>\n",
       "      <td>1</td>\n",
       "      <td>0</td>\n",
       "      <td>0</td>\n",
       "      <td>0</td>\n",
       "      <td>0</td>\n",
       "      <td>0</td>\n",
       "      <td>0</td>\n",
       "      <td>0</td>\n",
       "      <td>1</td>\n",
       "      <td>0</td>\n",
       "      <td>0</td>\n",
       "    </tr>\n",
       "  </tbody>\n",
       "</table>\n",
       "</div>"
      ],
      "text/plain": [
       "     price  lotsize  bedrooms  bathrms stories  driveway  recroom  fullbase  \\\n",
       "0  42000.0     5850         3        1     two         1        0         1   \n",
       "1  38500.0     4000         2        1     one         1        0         0   \n",
       "2  49500.0     3060         3        1     one         1        0         0   \n",
       "\n",
       "   gashw  airco  garagepl  prefarea  stories_four  stories_one  stories_three  \\\n",
       "0      0      0         1         0             0            0              0   \n",
       "1      0      0         0         0             0            1              0   \n",
       "2      0      0         0         0             0            1              0   \n",
       "\n",
       "   stories_two  \n",
       "0            1  \n",
       "1            0  \n",
       "2            0  "
      ]
     },
     "execution_count": 6,
     "metadata": {},
     "output_type": "execute_result"
    }
   ],
   "source": [
    "df = pd.concat([df, df_stories], axis = 1)   #axis= 1 means add column wise\n",
    "df.head(3)"
   ]
  },
  {
   "cell_type": "code",
   "execution_count": 7,
   "metadata": {},
   "outputs": [
    {
     "data": {
      "text/html": [
       "<div>\n",
       "<style>\n",
       "    .dataframe thead tr:only-child th {\n",
       "        text-align: right;\n",
       "    }\n",
       "\n",
       "    .dataframe thead th {\n",
       "        text-align: left;\n",
       "    }\n",
       "\n",
       "    .dataframe tbody tr th {\n",
       "        vertical-align: top;\n",
       "    }\n",
       "</style>\n",
       "<table border=\"1\" class=\"dataframe\">\n",
       "  <thead>\n",
       "    <tr style=\"text-align: right;\">\n",
       "      <th></th>\n",
       "      <th>price</th>\n",
       "      <th>lotsize</th>\n",
       "      <th>bedrooms</th>\n",
       "      <th>bathrms</th>\n",
       "      <th>driveway</th>\n",
       "      <th>recroom</th>\n",
       "      <th>fullbase</th>\n",
       "      <th>gashw</th>\n",
       "      <th>airco</th>\n",
       "      <th>garagepl</th>\n",
       "      <th>prefarea</th>\n",
       "      <th>stories_four</th>\n",
       "      <th>stories_one</th>\n",
       "      <th>stories_three</th>\n",
       "      <th>stories_two</th>\n",
       "    </tr>\n",
       "  </thead>\n",
       "  <tbody>\n",
       "    <tr>\n",
       "      <th>0</th>\n",
       "      <td>42000.0</td>\n",
       "      <td>5850</td>\n",
       "      <td>3</td>\n",
       "      <td>1</td>\n",
       "      <td>1</td>\n",
       "      <td>0</td>\n",
       "      <td>1</td>\n",
       "      <td>0</td>\n",
       "      <td>0</td>\n",
       "      <td>1</td>\n",
       "      <td>0</td>\n",
       "      <td>0</td>\n",
       "      <td>0</td>\n",
       "      <td>0</td>\n",
       "      <td>1</td>\n",
       "    </tr>\n",
       "    <tr>\n",
       "      <th>1</th>\n",
       "      <td>38500.0</td>\n",
       "      <td>4000</td>\n",
       "      <td>2</td>\n",
       "      <td>1</td>\n",
       "      <td>1</td>\n",
       "      <td>0</td>\n",
       "      <td>0</td>\n",
       "      <td>0</td>\n",
       "      <td>0</td>\n",
       "      <td>0</td>\n",
       "      <td>0</td>\n",
       "      <td>0</td>\n",
       "      <td>1</td>\n",
       "      <td>0</td>\n",
       "      <td>0</td>\n",
       "    </tr>\n",
       "    <tr>\n",
       "      <th>2</th>\n",
       "      <td>49500.0</td>\n",
       "      <td>3060</td>\n",
       "      <td>3</td>\n",
       "      <td>1</td>\n",
       "      <td>1</td>\n",
       "      <td>0</td>\n",
       "      <td>0</td>\n",
       "      <td>0</td>\n",
       "      <td>0</td>\n",
       "      <td>0</td>\n",
       "      <td>0</td>\n",
       "      <td>0</td>\n",
       "      <td>1</td>\n",
       "      <td>0</td>\n",
       "      <td>0</td>\n",
       "    </tr>\n",
       "  </tbody>\n",
       "</table>\n",
       "</div>"
      ],
      "text/plain": [
       "     price  lotsize  bedrooms  bathrms  driveway  recroom  fullbase  gashw  \\\n",
       "0  42000.0     5850         3        1         1        0         1      0   \n",
       "1  38500.0     4000         2        1         1        0         0      0   \n",
       "2  49500.0     3060         3        1         1        0         0      0   \n",
       "\n",
       "   airco  garagepl  prefarea  stories_four  stories_one  stories_three  \\\n",
       "0      0         1         0             0            0              0   \n",
       "1      0         0         0             0            1              0   \n",
       "2      0         0         0             0            1              0   \n",
       "\n",
       "   stories_two  \n",
       "0            1  \n",
       "1            0  \n",
       "2            0  "
      ]
     },
     "execution_count": 7,
     "metadata": {},
     "output_type": "execute_result"
    }
   ],
   "source": [
    "del df['stories']\n",
    "df.head(3)"
   ]
  },
  {
   "cell_type": "code",
   "execution_count": 8,
   "metadata": {},
   "outputs": [
    {
     "name": "stdout",
     "output_type": "stream",
     "text": [
      "                  price   lotsize  bedrooms   bathrms  driveway   recroom  \\\n",
      "price          1.000000  0.535796  0.366447  0.516719  0.297167  0.254960   \n",
      "lotsize        0.535796  1.000000  0.151851  0.193833  0.288778  0.140327   \n",
      "bedrooms       0.366447  0.151851  1.000000  0.373769 -0.011996  0.080492   \n",
      "bathrms        0.516719  0.193833  0.373769  1.000000  0.041955  0.126892   \n",
      "driveway       0.297167  0.288778 -0.011996  0.041955  1.000000  0.091959   \n",
      "recroom        0.254960  0.140327  0.080492  0.126892  0.091959  1.000000   \n",
      "fullbase       0.186218  0.047487  0.097201  0.102791  0.043428  0.372434   \n",
      "gashw          0.092837 -0.009201  0.046028  0.067365 -0.011942 -0.010119   \n",
      "airco          0.453347  0.221765  0.160412  0.184955  0.106290  0.136626   \n",
      "garagepl       0.383302  0.352872  0.139117  0.178178  0.203682  0.038122   \n",
      "prefarea       0.329074  0.234782  0.078953  0.064013  0.199378  0.161292   \n",
      "stories_four   0.372281  0.178354  0.145525  0.281003  0.115453  0.067567   \n",
      "stories_one   -0.270058  0.054348 -0.509974 -0.250784 -0.053249 -0.022632   \n",
      "stories_three  0.138254  0.020567  0.099150  0.036027  0.073533 -0.038733   \n",
      "stories_two   -0.002089 -0.159612  0.377424  0.080982 -0.047074  0.006938   \n",
      "\n",
      "               fullbase     gashw     airco  garagepl  prefarea  stories_four  \\\n",
      "price          0.186218  0.092837  0.453347  0.383302  0.329074      0.372281   \n",
      "lotsize        0.047487 -0.009201  0.221765  0.352872  0.234782      0.178354   \n",
      "bedrooms       0.097201  0.046028  0.160412  0.139117  0.078953      0.145525   \n",
      "bathrms        0.102791  0.067365  0.184955  0.178178  0.064013      0.281003   \n",
      "driveway       0.043428 -0.011942  0.106290  0.203682  0.199378      0.115453   \n",
      "recroom        0.372434 -0.010119  0.136626  0.038122  0.161292      0.067567   \n",
      "fullbase       1.000000  0.004677  0.045248  0.052524  0.228651     -0.165285   \n",
      "gashw          0.004677  1.000000 -0.130350  0.068144 -0.059170     -0.062416   \n",
      "airco          0.045248 -0.130350  1.000000  0.156596  0.115626      0.298887   \n",
      "garagepl       0.052524  0.068144  0.156596  1.000000  0.092364      0.126112   \n",
      "prefarea       0.228651 -0.059170  0.115626  0.092364  1.000000     -0.010035   \n",
      "stories_four  -0.165285 -0.062416  0.298887  0.126112 -0.010035      1.000000   \n",
      "stories_one    0.059154 -0.060336 -0.143174  0.016610 -0.010668     -0.240361   \n",
      "stories_three -0.132540  0.072922  0.110682 -0.079170  0.143067     -0.080113   \n",
      "stories_two    0.098694  0.054823 -0.074706 -0.041931 -0.059240     -0.250472   \n",
      "\n",
      "               stories_one  stories_three  stories_two  \n",
      "price            -0.270058       0.138254    -0.002089  \n",
      "lotsize           0.054348       0.020567    -0.159612  \n",
      "bedrooms         -0.509974       0.099150     0.377424  \n",
      "bathrms          -0.250784       0.036027     0.080982  \n",
      "driveway         -0.053249       0.073533    -0.047074  \n",
      "recroom          -0.022632      -0.038733     0.006938  \n",
      "fullbase          0.059154      -0.132540     0.098694  \n",
      "gashw            -0.060336       0.072922     0.054823  \n",
      "airco            -0.143174       0.110682    -0.074706  \n",
      "garagepl          0.016610      -0.079170    -0.041931  \n",
      "prefarea         -0.010668       0.143067    -0.059240  \n",
      "stories_four     -0.240361      -0.080113    -0.250472  \n",
      "stories_one       1.000000      -0.237177    -0.741533  \n",
      "stories_three    -0.237177       1.000000    -0.247154  \n",
      "stories_two      -0.741533      -0.247154     1.000000  \n"
     ]
    }
   ],
   "source": [
    "#correlation\n",
    "#VIF (variable inflation factor)\n",
    "print(df.corr())"
   ]
  },
  {
   "cell_type": "code",
   "execution_count": 9,
   "metadata": {},
   "outputs": [
    {
     "name": "stderr",
     "output_type": "stream",
     "text": [
      "C:\\Users\\samee\\Anaconda3\\lib\\site-packages\\statsmodels\\compat\\pandas.py:56: FutureWarning: The pandas.core.datetools module is deprecated and will be removed in a future version. Please use the pandas.tseries module instead.\n",
      "  from pandas.core import datetools\n"
     ]
    },
    {
     "data": {
      "image/png": "[encoded data removed]",
      "text/plain": [
       "<matplotlib.figure.Figure at 0x25f0d7845c0>"
      ]
     },
     "execution_count": 9,
     "metadata": {},
     "output_type": "execute_result"
    },
    {
     "data": {
      "image/png": "[encoded data removed]",
      "text/plain": [
       "<matplotlib.figure.Figure at 0x25f0d7845c0>"
      ]
     },
     "metadata": {},
     "output_type": "display_data"
    }
   ],
   "source": [
    "import statsmodels.api as sm \n",
    "sm.graphics.plot_corr(df.corr(), xnames=list(df.columns))"
   ]
  },
  {
   "cell_type": "code",
   "execution_count": 10,
   "metadata": {},
   "outputs": [
    {
     "data": {
      "text/plain": [
       "<matplotlib.axes._subplots.AxesSubplot at 0x25f0f5d0a58>"
      ]
     },
     "execution_count": 10,
     "metadata": {},
     "output_type": "execute_result"
    },
    {
     "data": {
      "image/png": "[encoded data removed]",
      "text/plain": [
       "<matplotlib.figure.Figure at 0x25f0f5d0198>"
      ]
     },
     "metadata": {},
     "output_type": "display_data"
    }
   ],
   "source": [
    "#Seaborn\n",
    "import seaborn as sns\n",
    "sns.heatmap(df.corr(), square = True, annot = True, fmt = '.1f')\n"
   ]
  },
  {
   "cell_type": "code",
   "execution_count": 11,
   "metadata": {},
   "outputs": [
    {
     "data": {
      "text/plain": [
       "['lotsize',\n",
       " 'bedrooms',\n",
       " 'bathrms',\n",
       " 'driveway',\n",
       " 'recroom',\n",
       " 'fullbase',\n",
       " 'gashw',\n",
       " 'airco',\n",
       " 'garagepl',\n",
       " 'prefarea',\n",
       " 'stories_four',\n",
       " 'stories_one',\n",
       " 'stories_three',\n",
       " 'stories_two']"
      ]
     },
     "execution_count": 11,
     "metadata": {},
     "output_type": "execute_result"
    }
   ],
   "source": [
    "#VIF (Variation Inflation Factor)\n",
    "#remove highly correlated variables\n",
    "\n",
    "#list of independent variables\n",
    "independent_variables = ['lotsize', 'bedrooms', 'bathrms','driveway','recroom', 'fullbase','gashw','airco','garagepl',\n",
    "                         'prefarea','stories_four','stories_one','stories_three','stories_two']\n",
    "independent_variables"
   ]
  },
  {
   "cell_type": "code",
   "execution_count": 12,
   "metadata": {},
   "outputs": [
    {
     "data": {
      "text/html": [
       "<div>\n",
       "<style>\n",
       "    .dataframe thead tr:only-child th {\n",
       "        text-align: right;\n",
       "    }\n",
       "\n",
       "    .dataframe thead th {\n",
       "        text-align: left;\n",
       "    }\n",
       "\n",
       "    .dataframe tbody tr th {\n",
       "        vertical-align: top;\n",
       "    }\n",
       "</style>\n",
       "<table border=\"1\" class=\"dataframe\">\n",
       "  <thead>\n",
       "    <tr style=\"text-align: right;\">\n",
       "      <th></th>\n",
       "      <th>lotsize</th>\n",
       "      <th>bedrooms</th>\n",
       "      <th>bathrms</th>\n",
       "      <th>driveway</th>\n",
       "      <th>recroom</th>\n",
       "      <th>fullbase</th>\n",
       "      <th>gashw</th>\n",
       "      <th>airco</th>\n",
       "      <th>garagepl</th>\n",
       "      <th>prefarea</th>\n",
       "      <th>stories_four</th>\n",
       "      <th>stories_one</th>\n",
       "      <th>stories_three</th>\n",
       "      <th>stories_two</th>\n",
       "    </tr>\n",
       "  </thead>\n",
       "  <tbody>\n",
       "    <tr>\n",
       "      <th>0</th>\n",
       "      <td>5850</td>\n",
       "      <td>3</td>\n",
       "      <td>1</td>\n",
       "      <td>1</td>\n",
       "      <td>0</td>\n",
       "      <td>1</td>\n",
       "      <td>0</td>\n",
       "      <td>0</td>\n",
       "      <td>1</td>\n",
       "      <td>0</td>\n",
       "      <td>0</td>\n",
       "      <td>0</td>\n",
       "      <td>0</td>\n",
       "      <td>1</td>\n",
       "    </tr>\n",
       "    <tr>\n",
       "      <th>1</th>\n",
       "      <td>4000</td>\n",
       "      <td>2</td>\n",
       "      <td>1</td>\n",
       "      <td>1</td>\n",
       "      <td>0</td>\n",
       "      <td>0</td>\n",
       "      <td>0</td>\n",
       "      <td>0</td>\n",
       "      <td>0</td>\n",
       "      <td>0</td>\n",
       "      <td>0</td>\n",
       "      <td>1</td>\n",
       "      <td>0</td>\n",
       "      <td>0</td>\n",
       "    </tr>\n",
       "    <tr>\n",
       "      <th>2</th>\n",
       "      <td>3060</td>\n",
       "      <td>3</td>\n",
       "      <td>1</td>\n",
       "      <td>1</td>\n",
       "      <td>0</td>\n",
       "      <td>0</td>\n",
       "      <td>0</td>\n",
       "      <td>0</td>\n",
       "      <td>0</td>\n",
       "      <td>0</td>\n",
       "      <td>0</td>\n",
       "      <td>1</td>\n",
       "      <td>0</td>\n",
       "      <td>0</td>\n",
       "    </tr>\n",
       "  </tbody>\n",
       "</table>\n",
       "</div>"
      ],
      "text/plain": [
       "   lotsize  bedrooms  bathrms  driveway  recroom  fullbase  gashw  airco  \\\n",
       "0     5850         3        1         1        0         1      0      0   \n",
       "1     4000         2        1         1        0         0      0      0   \n",
       "2     3060         3        1         1        0         0      0      0   \n",
       "\n",
       "   garagepl  prefarea  stories_four  stories_one  stories_three  stories_two  \n",
       "0         1         0             0            0              0            1  \n",
       "1         0         0             0            1              0            0  \n",
       "2         0         0             0            1              0            0  "
      ]
     },
     "execution_count": 12,
     "metadata": {},
     "output_type": "execute_result"
    }
   ],
   "source": [
    "from statsmodels.stats.outliers_influence import variance_inflation_factor\n",
    "x=df[independent_variables]\n",
    "x.head(3)"
   ]
  },
  {
   "cell_type": "code",
   "execution_count": 13,
   "metadata": {},
   "outputs": [
    {
     "data": {
      "text/plain": [
       "0    42000.0\n",
       "1    38500.0\n",
       "2    49500.0\n",
       "Name: price, dtype: float64"
      ]
     },
     "execution_count": 13,
     "metadata": {},
     "output_type": "execute_result"
    }
   ],
   "source": [
    "y=df['price']\n",
    "y.head(3)"
   ]
  },
  {
   "cell_type": "code",
   "execution_count": 14,
   "metadata": {},
   "outputs": [
    {
     "name": "stdout",
     "output_type": "stream",
     "text": [
      "vif :  [1.3704738112004571, 1.5783268259718808, 1.2987779728705589, 1.1648811574651847, 1.214862009319293, 1.3369114662383517, 1.0530788697758049, 1.2195823546735252, 1.2188329290613049, 1.1812394341061749, 4.5448363398459719, 11.781465345739338, 3.9436985684475445, 17.220894903652624]\n",
      "dropping: stories_two at index : 13\n",
      "vif :  [9.0276724112408449, 12.40877864989557, 9.374682124313626, 6.79426994395169, 1.4753724454932144, 2.0557977126326841, 1.103128332756141, 1.7850543320175549, 1.9607784997238862, 1.5317205065647905, 1.4546157757803122, 1.8969940907498246, 1.2786005279235879]\n",
      "dropping: bedrooms at index : 1\n",
      "Final Independent Variable ['lotsize', 'bathrms', 'driveway', 'recroom', 'fullbase', 'gashw', 'airco', 'garagepl', 'prefarea', 'stories_four', 'stories_one', 'stories_three']\n"
     ]
    }
   ],
   "source": [
    "thresh = 10 \n",
    "for i in np.arange ( 0, len(independent_variables)):\n",
    "    vif =[variance_inflation_factor(x[independent_variables].values, ix)\n",
    "          for ix in range (x[independent_variables].shape[1])]\n",
    "    maxloc = vif.index(max(vif))\n",
    "    if max(vif) > thresh:\n",
    "        print('vif : ', vif)\n",
    "        print('dropping: ' + x[independent_variables].columns[maxloc]+ \" at index : \"+ str(maxloc))\n",
    "        del independent_variables[maxloc]\n",
    "    else: \n",
    "        break\n",
    "print('Final Independent Variable',  independent_variables)"
   ]
  },
  {
   "cell_type": "code",
   "execution_count": 15,
   "metadata": {},
   "outputs": [
    {
     "name": "stderr",
     "output_type": "stream",
     "text": [
      "C:\\Users\\samee\\Anaconda3\\lib\\site-packages\\sklearn\\cross_validation.py:44: DeprecationWarning: This module was deprecated in version 0.18 in favor of the model_selection module into which all the refactored classes and functions are moved. Also note that the interface of the new CV iterators are different from that of this module. This module will be removed in 0.20.\n",
      "  \"This module will be removed in 0.20.\", DeprecationWarning)\n"
     ]
    },
    {
     "data": {
      "text/plain": [
       "(436, 12)"
      ]
     },
     "execution_count": 15,
     "metadata": {},
     "output_type": "execute_result"
    }
   ],
   "source": [
    "#OLS ordinaru least squares\n",
    "#Train/Test data - 80/20 or 70/30\n",
    "from sklearn import preprocessing\n",
    "from sklearn import metrics\n",
    "from sklearn.cross_validation import train_test_split\n",
    "x = df[independent_variables]\n",
    "y = df['price']\n",
    "\n",
    "x_train, x_test, y_train, y_test = train_test_split(x,y,train_size=.80, random_state=1)\n",
    "x_train.shape"
   ]
  },
  {
   "cell_type": "code",
   "execution_count": 16,
   "metadata": {},
   "outputs": [
    {
     "data": {
      "text/plain": [
       "(436,)"
      ]
     },
     "execution_count": 16,
     "metadata": {},
     "output_type": "execute_result"
    }
   ],
   "source": [
    "y_train.shape"
   ]
  },
  {
   "cell_type": "code",
   "execution_count": 17,
   "metadata": {},
   "outputs": [
    {
     "data": {
      "text/plain": [
       "(110, 12)"
      ]
     },
     "execution_count": 17,
     "metadata": {},
     "output_type": "execute_result"
    }
   ],
   "source": [
    "x_test.shape"
   ]
  },
  {
   "cell_type": "code",
   "execution_count": 18,
   "metadata": {},
   "outputs": [
    {
     "data": {
      "text/plain": [
       "(110,)"
      ]
     },
     "execution_count": 18,
     "metadata": {},
     "output_type": "execute_result"
    }
   ],
   "source": [
    "y_test.shape"
   ]
  },
  {
   "cell_type": "code",
   "execution_count": 19,
   "metadata": {},
   "outputs": [
    {
     "name": "stdout",
     "output_type": "stream",
     "text": [
      "                            OLS Regression Results                            \n",
      "==============================================================================\n",
      "Dep. Variable:                  price   R-squared:                       0.956\n",
      "Model:                            OLS   Adj. R-squared:                  0.954\n",
      "Method:                 Least Squares   F-statistic:                     760.6\n",
      "Date:                Sat, 13 Oct 2018   Prob (F-statistic):          5.22e-278\n",
      "Time:                        12:11:51   Log-Likelihood:                -4819.9\n",
      "No. Observations:                 436   AIC:                             9664.\n",
      "Df Residuals:                     424   BIC:                             9713.\n",
      "Df Model:                          12                                         \n",
      "Covariance Type:            nonrobust                                         \n",
      "=================================================================================\n",
      "                    coef    std err          t      P>|t|      [0.025      0.975]\n",
      "---------------------------------------------------------------------------------\n",
      "lotsize           3.7699      0.388      9.708      0.000       3.007       4.533\n",
      "bathrms        1.951e+04   1288.307     15.143      0.000     1.7e+04     2.2e+04\n",
      "driveway       1.202e+04   1956.537      6.143      0.000    8172.955    1.59e+04\n",
      "recroom        2872.0408   2142.873      1.340      0.181   -1339.936    7084.017\n",
      "fullbase       6400.7179   1798.062      3.560      0.000    2866.492    9934.943\n",
      "gashw          1.505e+04   3481.788      4.322      0.000    8203.720    2.19e+04\n",
      "airco          1.236e+04   1790.893      6.901      0.000    8838.568    1.59e+04\n",
      "garagepl       4189.5232    954.057      4.391      0.000    2314.253    6064.794\n",
      "prefarea       8426.2913   1989.313      4.236      0.000    4516.148    1.23e+04\n",
      "stories_four   1.385e+04   3438.209      4.028      0.000    7092.521    2.06e+04\n",
      "stories_one   -4097.5459   1568.606     -2.612      0.009   -7180.758   -1014.334\n",
      "stories_three  1.269e+04   3097.207      4.099      0.000    6606.358    1.88e+04\n",
      "==============================================================================\n",
      "Omnibus:                       35.736   Durbin-Watson:                   1.964\n",
      "Prob(Omnibus):                  0.000   Jarque-Bera (JB):               64.292\n",
      "Skew:                           0.514   Prob(JB):                     1.09e-14\n",
      "Kurtosis:                       4.576   Cond. No.                     2.79e+04\n",
      "==============================================================================\n",
      "\n",
      "Warnings:\n",
      "[1] Standard Errors assume that the covariance matrix of the errors is correctly specified.\n",
      "[2] The condition number is large, 2.79e+04. This might indicate that there are\n",
      "strong multicollinearity or other numerical problems.\n"
     ]
    }
   ],
   "source": [
    "a = sm.OLS(y_train,x_train).fit()\n",
    "print(a.summary())"
   ]
  },
  {
   "cell_type": "code",
   "execution_count": 20,
   "metadata": {},
   "outputs": [
    {
     "data": {
      "text/plain": [
       "(436, 11)"
      ]
     },
     "execution_count": 20,
     "metadata": {},
     "output_type": "execute_result"
    }
   ],
   "source": [
    "#so any value in probablity which is greater than 0.02 remove it\n",
    "#so we have to remove recrooms\n",
    "independent_variables = ['lotsize','bathrms','driveway', 'fullbase','gashw','airco','garagepl',\n",
    "                         'prefarea','stories_four','stories_one','stories_three']\n",
    "from sklearn import preprocessing\n",
    "from sklearn import metrics\n",
    "from sklearn.cross_validation import train_test_split\n",
    "x = df[independent_variables]\n",
    "y = df['price']\n",
    "\n",
    "x_train, x_test, y_train, y_test = train_test_split(x,y,train_size=.80, random_state=1)\n",
    "x_train.shape"
   ]
  },
  {
   "cell_type": "code",
   "execution_count": 21,
   "metadata": {},
   "outputs": [
    {
     "data": {
      "text/plain": [
       "(436,)"
      ]
     },
     "execution_count": 21,
     "metadata": {},
     "output_type": "execute_result"
    }
   ],
   "source": [
    "y_train.shape"
   ]
  },
  {
   "cell_type": "code",
   "execution_count": 22,
   "metadata": {},
   "outputs": [
    {
     "data": {
      "text/plain": [
       "(110, 11)"
      ]
     },
     "execution_count": 22,
     "metadata": {},
     "output_type": "execute_result"
    }
   ],
   "source": [
    "x_test.shape"
   ]
  },
  {
   "cell_type": "code",
   "execution_count": 23,
   "metadata": {},
   "outputs": [
    {
     "data": {
      "text/plain": [
       "(110,)"
      ]
     },
     "execution_count": 23,
     "metadata": {},
     "output_type": "execute_result"
    }
   ],
   "source": [
    "y_test.shape"
   ]
  },
  {
   "cell_type": "code",
   "execution_count": 24,
   "metadata": {},
   "outputs": [
    {
     "name": "stdout",
     "output_type": "stream",
     "text": [
      "                            OLS Regression Results                            \n",
      "==============================================================================\n",
      "Dep. Variable:                  price   R-squared:                       0.955\n",
      "Model:                            OLS   Adj. R-squared:                  0.954\n",
      "Method:                 Least Squares   F-statistic:                     828.0\n",
      "Date:                Sat, 13 Oct 2018   Prob (F-statistic):          4.34e-279\n",
      "Time:                        12:11:51   Log-Likelihood:                -4820.8\n",
      "No. Observations:                 436   AIC:                             9664.\n",
      "Df Residuals:                     425   BIC:                             9708.\n",
      "Df Model:                          11                                         \n",
      "Covariance Type:            nonrobust                                         \n",
      "=================================================================================\n",
      "                    coef    std err          t      P>|t|      [0.025      0.975]\n",
      "---------------------------------------------------------------------------------\n",
      "lotsize           3.8087      0.388      9.826      0.000       3.047       4.571\n",
      "bathrms         1.95e+04   1289.505     15.125      0.000     1.7e+04     2.2e+04\n",
      "driveway        1.21e+04   1957.405      6.182      0.000    8253.555    1.59e+04\n",
      "fullbase       7194.3499   1699.352      4.234      0.000    3854.169    1.05e+04\n",
      "gashw          1.511e+04   3484.684      4.338      0.000    8265.546     2.2e+04\n",
      "airco          1.248e+04   1790.273      6.971      0.000    8961.294     1.6e+04\n",
      "garagepl       4116.6719    953.399      4.318      0.000    2242.707    5990.637\n",
      "prefarea       8604.6955   1986.713      4.331      0.000    4699.689    1.25e+04\n",
      "stories_four   1.405e+04   3438.140      4.087      0.000    7294.124    2.08e+04\n",
      "stories_one   -4218.1782   1567.488     -2.691      0.007   -7299.172   -1137.184\n",
      "stories_three  1.265e+04   3099.966      4.082      0.000    6561.305    1.87e+04\n",
      "==============================================================================\n",
      "Omnibus:                       34.173   Durbin-Watson:                   1.963\n",
      "Prob(Omnibus):                  0.000   Jarque-Bera (JB):               59.327\n",
      "Skew:                           0.506   Prob(JB):                     1.31e-13\n",
      "Kurtosis:                       4.498   Cond. No.                     2.79e+04\n",
      "==============================================================================\n",
      "\n",
      "Warnings:\n",
      "[1] Standard Errors assume that the covariance matrix of the errors is correctly specified.\n",
      "[2] The condition number is large, 2.79e+04. This might indicate that there are\n",
      "strong multicollinearity or other numerical problems.\n"
     ]
    }
   ],
   "source": [
    "a = sm.OLS(y_train,x_train).fit()\n",
    "print(a.summary())"
   ]
  },
  {
   "cell_type": "code",
   "execution_count": 33,
   "metadata": {},
   "outputs": [
    {
     "name": "stdout",
     "output_type": "stream",
     "text": [
      "enter Lotsize :4564\n",
      "enter bathrooms :1\n",
      "enter driveways :1\n",
      "enter full base :0\n",
      "enter gas hot water :1\n",
      "enter air conditioned :1\n",
      "enter  garage :0\n",
      "enter preferred area :1\n",
      "enter story one :1\n",
      "enter story three :0\n",
      "enter story four :0\n"
     ]
    }
   ],
   "source": [
    "#predict houseprice\n",
    "\n",
    "lotsize = int(input(\"enter Lotsize :\"))\n",
    "bathrms = int(input(\"enter bathrooms :\"))\n",
    "driveway = int(input(\"enter driveways :\"))\n",
    "fullbase = int(input(\"enter full base :\"))\n",
    "gashw = int(input(\"enter gas hot water :\"))\n",
    "airco = int(input(\"enter air conditioned :\"))\n",
    "garagepl = int(input(\"enter  garage :\"))\n",
    "prefarea = int(input(\"enter preferred area :\"))\n",
    "storyone = int(input(\"enter story one :\"))\n",
    "storythree = int(input(\"enter story three :\"))\n",
    "storyfour = int(input(\"enter story four :\"))\n",
    "\n",
    "#convert these input in dictionary\n",
    "dict1 = {'lotsize':lotsize, 'bathrms':bathrms, 'driveway':driveway, 'fullbase':fullbase, 'gashw':gashw,\n",
    "         'airco':airco,'garagepl':garagepl, 'prefarea':prefarea}"
   ]
  },
  {
   "cell_type": "code",
   "execution_count": 34,
   "metadata": {},
   "outputs": [
    {
     "data": {
      "text/plain": [
       "{'airco': 1,\n",
       " 'bathrms': 1,\n",
       " 'driveway': 1,\n",
       " 'fullbase': 0,\n",
       " 'garagepl': 0,\n",
       " 'gashw': 1,\n",
       " 'lotsize': 4564,\n",
       " 'prefarea': 1}"
      ]
     },
     "execution_count": 34,
     "metadata": {},
     "output_type": "execute_result"
    }
   ],
   "source": [
    "dict1"
   ]
  },
  {
   "cell_type": "code",
   "execution_count": 35,
   "metadata": {},
   "outputs": [
    {
     "data": {
      "text/html": [
       "<div>\n",
       "<style>\n",
       "    .dataframe thead tr:only-child th {\n",
       "        text-align: right;\n",
       "    }\n",
       "\n",
       "    .dataframe thead th {\n",
       "        text-align: left;\n",
       "    }\n",
       "\n",
       "    .dataframe tbody tr th {\n",
       "        vertical-align: top;\n",
       "    }\n",
       "</style>\n",
       "<table border=\"1\" class=\"dataframe\">\n",
       "  <thead>\n",
       "    <tr style=\"text-align: right;\">\n",
       "      <th></th>\n",
       "      <th>lotsize</th>\n",
       "      <th>bathrms</th>\n",
       "      <th>driveway</th>\n",
       "      <th>fullbase</th>\n",
       "      <th>gashw</th>\n",
       "      <th>airco</th>\n",
       "      <th>garagepl</th>\n",
       "      <th>prefarea</th>\n",
       "    </tr>\n",
       "  </thead>\n",
       "  <tbody>\n",
       "    <tr>\n",
       "      <th>0</th>\n",
       "      <td>4564</td>\n",
       "      <td>1</td>\n",
       "      <td>1</td>\n",
       "      <td>0</td>\n",
       "      <td>1</td>\n",
       "      <td>1</td>\n",
       "      <td>0</td>\n",
       "      <td>1</td>\n",
       "    </tr>\n",
       "  </tbody>\n",
       "</table>\n",
       "</div>"
      ],
      "text/plain": [
       "   lotsize  bathrms  driveway  fullbase  gashw  airco  garagepl  prefarea\n",
       "0     4564        1         1         0      1      1         0         1"
      ]
     },
     "execution_count": 35,
     "metadata": {},
     "output_type": "execute_result"
    }
   ],
   "source": [
    "#create a dataframe from dictionary\n",
    "df_input = pd.DataFrame(dict1,index=[0],columns=[\"lotsize\",\"bathrms\",\"driveway\",\"fullbase\",\"gashw\",\n",
    "                                                 \"airco\",\"garagepl\",\"prefarea\"])\n",
    "df_input"
   ]
  },
  {
   "cell_type": "code",
   "execution_count": 36,
   "metadata": {
    "collapsed": true
   },
   "outputs": [],
   "source": [
    "df_input[\"stories_one\"] = storyone\n",
    "df_input[\"stories_three\"] = storythree\n",
    "df_input[\"stories_four\"] = storyfour\n"
   ]
  },
  {
   "cell_type": "code",
   "execution_count": 37,
   "metadata": {},
   "outputs": [
    {
     "name": "stdout",
     "output_type": "stream",
     "text": [
      "predicted price of house is : 99239.0601091\n"
     ]
    }
   ],
   "source": [
    "#we used a in OLS\n",
    "predictprice = a.predict(df_input)\n",
    "print(\"predicted price of house is :\", predictprice[0])"
   ]
  },
  {
   "cell_type": "code",
   "execution_count": null,
   "metadata": {
    "collapsed": true
   },
   "outputs": [],
   "source": []
  }
 ],
 "metadata": {
  "kernelspec": {
   "display_name": "Python 3",
   "language": "python",
   "name": "python3"
  },
  "language_info": {
   "codemirror_mode": {
    "name": "ipython",
    "version": 3
   },
   "file_extension": ".py",
   "mimetype": "text/x-python",
   "name": "python",
   "nbconvert_exporter": "python",
   "pygments_lexer": "ipython3",
   "version": "3.6.1"
  }
 },
 "nbformat": 4,
 "nbformat_minor": 2
}
